{
 "cells": [
  {
   "cell_type": "code",
   "execution_count": 4,
   "metadata": {},
   "outputs": [],
   "source": [
    "import googlemaps\n",
    "import math\n",
    "import numpy as np\n",
    "\n",
    "# Set up google maps connection with your personal API key\n",
    "gmaps = googlemaps.Client(key='')"
   ]
  },
  {
   "cell_type": "code",
   "execution_count": 30,
   "metadata": {},
   "outputs": [],
   "source": [
    "# Helps convert nautical miles to degrees latitude\n",
    "def deg_long_per_nautical_at_lat(lat):\n",
    "    # https://stackoverflow.com/questions/7825415/convert-nautical-miles-to-degrees-longitude-given-a-latitude-using-google-maps\n",
    "    lat = lat * math.pi / 180\n",
    "    const1, const2, const3 = 111412.84, -93.5, 0.118\n",
    "    long_len = const1 * math.cos(lat) + const2 * math.cos(3 * lat) + const3 * math.cos(5 * lat)\n",
    "    long_len = long_len * (3.280833333) / (5280 * 1.15077945)\n",
    "    return 1 / long_len\n",
    "\n",
    "# Generates a list of x,y,z values of terrain centered at a given coordinate\n",
    "def gen_elevation_map(coord, dim):\n",
    "    latitude, longitude = coord\n",
    "    width, height = dim\n",
    "    half_width, half_height = width//2, height//2\n",
    "\n",
    "    # Loop through the grid\n",
    "    input_map = []\n",
    "    for row in range(-half_height, half_height+1):\n",
    "        for col in range(-half_width, half_width+1):\n",
    "            # Calculate the latitude and longitude for each point in our square grid\n",
    "            new_lat = latitude + row / 60 / 20 # 20th of a mile\n",
    "            input_map.append((new_lat, longitude + col * deg_long_per_nautical_at_lat(new_lat) / 20))\n",
    "\n",
    "    # Google maps API rate limits at 270 coordinates per request\n",
    "    # This code breaks up input into batches <= 250 coordinates in size\n",
    "    res = []\n",
    "    for i in range(math.ceil(len(input_map)/250)):\n",
    "        idx = i*250\n",
    "        next_batch = input_map[idx: min(idx + 250, len(input_map))]\n",
    "        res = res + gmaps.elevation(next_batch)\n",
    "\n",
    "    # Reshapes long list of elevations to square\n",
    "    output_map = np.array(list(map(lambda x:x[\"elevation\"], res))).reshape(width, height, 1)\n",
    "\n",
    "    # Converts square back into long list \n",
    "    # This time with x,y,z coordinates\n",
    "    XX,YY = np.meshgrid(np.arange(output_map.shape[1]),np.arange(output_map.shape[0]))\n",
    "    temp_coords = np.vstack((output_map.ravel(),XX.ravel(),YY.ravel())).T\n",
    "    temp_coords[:,1] -= half_height\n",
    "    temp_coords[:,2] -= half_width \n",
    "    temp_coords[:,[0,1]] = temp_coords[:,[1,0]]\n",
    "\n",
    "    return temp_coords"
   ]
  },
  {
   "cell_type": "code",
   "execution_count": 37,
   "metadata": {},
   "outputs": [
    {
     "data": {
      "text/plain": [
       "array([[-150.        , 1159.96643066, -150.        ],\n",
       "       [-149.        , 1189.86584473, -150.        ],\n",
       "       [-148.        , 1229.14282227, -150.        ],\n",
       "       ...,\n",
       "       [ 148.        , 2671.48242188,  150.        ],\n",
       "       [ 149.        , 2680.39770508,  150.        ],\n",
       "       [ 150.        , 2697.94604492,  150.        ]])"
      ]
     },
     "execution_count": 37,
     "metadata": {},
     "output_type": "execute_result"
    }
   ],
   "source": [
    "# Generate a map for mount everest\n",
    "coord = (52.163398, -117.193483)\n",
    "dim = (301, 301)\n",
    "geo_map = gen_elevation_map(coord, dim)\n",
    "\n",
    "geo_map"
   ]
  },
  {
   "cell_type": "code",
   "execution_count": 38,
   "metadata": {},
   "outputs": [],
   "source": [
    "geo_map[:, 1] = geo_map[:, 1] / 100\n",
    "\n",
    "_, everest_max, _ = geo_map.max(axis=0)\n",
    "_, everest_min, _ = geo_map.min(axis=0)\n",
    "\n",
    "with open(\"new_data.js\", 'w') as f:\n",
    "    f.write(\"export const everest_min = %f;\\n\"%everest_min)\n",
    "    f.write(\"export const everest_max = %f;\\n\"%everest_max)\n",
    "    f.write(\"export const everest = [\\n\")\n",
    "    for row in geo_map:\n",
    "        f.write(\"[%f,%f,%f],\\n\"%(row[0], row[1], row[2]))\n",
    "    f.write(\"];\\n\")\n",
    "\n"
   ]
  },
  {
   "cell_type": "markdown",
   "metadata": {},
   "source": [
    "gmaps.elevation(coord)"
   ]
  }
 ],
 "metadata": {
  "interpreter": {
   "hash": "b7fcffab5038fd6cee6b7086ae6dd40d9a53d3a7eedce789e52ffeb33333f11a"
  },
  "kernelspec": {
   "display_name": "Python 3.7.11 ('ml')",
   "language": "python",
   "name": "python3"
  },
  "language_info": {
   "codemirror_mode": {
    "name": "ipython",
    "version": 3
   },
   "file_extension": ".py",
   "mimetype": "text/x-python",
   "name": "python",
   "nbconvert_exporter": "python",
   "pygments_lexer": "ipython3",
   "version": "3.9.7"
  },
  "orig_nbformat": 4
 },
 "nbformat": 4,
 "nbformat_minor": 2
}
